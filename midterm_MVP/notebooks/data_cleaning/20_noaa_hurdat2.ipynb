{
  "cells": [
    {
      "cell_type": "markdown",
      "metadata": {},
      "source": [
        "# 20 - NOAA HURDAT2\n",
        "\n",
        "Download Atlantic best-track text and parse to CSV for quick exposure features.\n"
      ]
    },
    {
      "cell_type": "code",
      "execution_count": null,
      "metadata": {},
      "outputs": [],
      "source": [
        "from pathlib import Path\n",
        "import pandas as pd, requests\n",
        "\n",
        "ROOT = Path('/Users/liamguest/LProjects/AURA/AURA')\n",
        "RAW = ROOT / 'data' / 'raw'; RAW.mkdir(parents=True, exist_ok=True)\n",
        "INT = ROOT / 'data' / 'interim'; INT.mkdir(parents=True, exist_ok=True)\n",
        "\n",
        "HURDAT_URL = 'https://www.nhc.noaa.gov/data/hurdat/hurdat2-1851-2023-070924.txt'\n",
        "hurdat_path = RAW / 'hurdat2_atlantic.txt'\n",
        "\n",
        "r = requests.get(HURDAT_URL, timeout=60)\n",
        "r.raise_for_status()\n",
        "hurdat_path.write_bytes(r.content)\n",
        "print('Wrote', hurdat_path)\n",
        "\n",
        "lines = hurdat_path.read_text().splitlines()\n",
        "records = []\n",
        "current_storm = None\n",
        "for line in lines:\n",
        "    if line and line[0].isalpha():\n",
        "        parts = [p.strip() for p in line.split(',')]\n",
        "        current_storm = {'id': parts[0], 'name': parts[1], 'n': int(parts[2])}\n",
        "    else:\n",
        "        parts = [p.strip() for p in line.split(',')]\n",
        "        if len(parts) >= 8 and current_storm:\n",
        "            ymdh = parts[0]\n",
        "            records.append({\n",
        "                'storm_id': current_storm['id'],\n",
        "                'storm_name': current_storm['name'],\n",
        "                'date': ymdh[:8],\n",
        "                'time': ymdh[8:],\n",
        "                'record_id': parts[2],\n",
        "                'status': parts[3],\n",
        "                'lat': parts[4],\n",
        "                'lon': parts[5],\n",
        "                'max_wind_kt': parts[6],\n",
        "                'min_pres_mb': parts[7]\n",
        "            })\n",
        "\n",
        "hurdat_df = pd.DataFrame(records)\n",
        "out = INT / 'hurdat2_atlantic_parsed.csv'\n",
        "hurdat_df.to_csv(out, index=False)\n",
        "print('Parsed', len(hurdat_df), '->', out)\n"
      ]
    }
  ],
  "metadata": {
    "kernelspec": {
      "display_name": "aura",
      "language": "python",
      "name": "python3"
    },
    "language_info": {
      "name": "python",
      "version": "3.11.11"
    }
  },
  "nbformat": 4,
  "nbformat_minor": 2
}
