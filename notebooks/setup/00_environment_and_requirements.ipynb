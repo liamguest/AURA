{
  "cells": [
    {
      "cell_type": "markdown",
      "metadata": {},
      "source": [
        "# 00 - Environment and Requirements\n",
        "\n",
        "Use this notebook to set up your Python environment, verify key libraries, and capture a reproducible requirements file.\n"
      ]
    },
    {
      "cell_type": "code",
      "execution_count": 1,
      "metadata": {},
      "outputs": [
        {
          "name": "stdout",
          "output_type": "stream",
          "text": [
            "{'python_version': '3.11.11 (main, Dec 11 2024, 10:25:04) [Clang 14.0.6 ]', 'executable': '/Applications/anaconda3/envs/aura/bin/python', 'platform': 'macOS-15.3.2-arm64-arm-64bit'}\n"
          ]
        }
      ],
      "source": [
        "import sys, platform, subprocess\n",
        "\n",
        "print({\n",
        "    'python_version': sys.version,\n",
        "    'executable': sys.executable,\n",
        "    'platform': platform.platform(),\n",
        "})\n",
        "\n",
        "# Optionally upgrade pip\n",
        "# subprocess.run([sys.executable, '-m', 'pip', 'install', '--upgrade', 'pip', 'wheel'], check=False)\n"
      ]
    },
    {
      "cell_type": "code",
      "execution_count": 2,
      "metadata": {},
      "outputs": [
        {
          "name": "stderr",
          "output_type": "stream",
          "text": [
            "Fontconfig warning: ignoring UTF-8: not a valid region tag\n",
            "Matplotlib is building the font cache; this may take a moment.\n"
          ]
        },
        {
          "data": {
            "text/plain": [
              "['pyarrow', 'scikit-learn', 'plotly']"
            ]
          },
          "execution_count": 2,
          "metadata": {},
          "output_type": "execute_result"
        }
      ],
      "source": [
        "# Install core packages if missing; safe to re-run\n",
        "core_packages = [\n",
        "    'pandas', 'geopandas', 'pyarrow', 'requests', 'tqdm',\n",
        "    'scikit-learn', 'shap', 'plotly'\n",
        "]\n",
        "\n",
        "import importlib\n",
        "missing = []\n",
        "for pkg in core_packages:\n",
        "    try:\n",
        "        importlib.import_module(pkg)\n",
        "    except Exception:\n",
        "        missing.append(pkg)\n",
        "\n",
        "missing\n"
      ]
    },
    {
      "cell_type": "code",
      "execution_count": 3,
      "metadata": {},
      "outputs": [],
      "source": [
        "# If you want to auto-install missing packages (uncomment):\n",
        "# import sys, subprocess\n",
        "# if missing:\n",
        "#     subprocess.check_call([sys.executable, '-m', 'pip', 'install', *missing])\n",
        "# else:\n",
        "#     print('All core packages already installed')\n",
        "\n"
      ]
    },
    {
      "cell_type": "code",
      "execution_count": 4,
      "metadata": {},
      "outputs": [],
      "source": [
        "# Freeze requirements (writes requirements.txt in project root)\n",
        "# import os\n",
        "# project_root = '/Users/liamguest/LProjects/AURA/AURA'\n",
        "# !{sys.executable} -m pip freeze > {project_root}/requirements.txt\n",
        "# print('Wrote requirements.txt')\n"
      ]
    }
  ],
  "metadata": {
    "kernelspec": {
      "display_name": "aura",
      "language": "python",
      "name": "python3"
    },
    "language_info": {
      "codemirror_mode": {
        "name": "ipython",
        "version": 3
      },
      "file_extension": ".py",
      "mimetype": "text/x-python",
      "name": "python",
      "nbconvert_exporter": "python",
      "pygments_lexer": "ipython3",
      "version": "3.11.11"
    }
  },
  "nbformat": 4,
  "nbformat_minor": 2
}
