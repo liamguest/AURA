{
  "cells": [
    {
      "cell_type": "markdown",
      "metadata": {},
      "source": [
        "# 40 - CDC SVI Ingestion (Tract Level)\n",
        "\n",
        "Place downloaded SVI CSVs for TX/LA/MS/AL/FL under `data/raw/svi/`, then run this notebook to combine and clean.\n"
      ]
    },
    {
      "cell_type": "code",
      "execution_count": null,
      "metadata": {},
      "outputs": [],
      "source": [
        "from pathlib import Path\n",
        "import pandas as pd\n",
        "\n",
        "ROOT = Path('/Users/liamguest/LProjects/AURA/AURA')\n",
        "RAW_SVI = ROOT / 'data' / 'raw' / 'svi'\n",
        "INT = ROOT / 'data' / 'interim'; INT.mkdir(parents=True, exist_ok=True)\n",
        "PROC = ROOT / 'data' / 'processed'; PROC.mkdir(parents=True, exist_ok=True)\n",
        "\n",
        "print('Looking for CSVs in:', RAW_SVI)\n",
        "frames = []\n",
        "for csv in sorted(RAW_SVI.glob('*.csv')):\n",
        "    try:\n",
        "        df = pd.read_csv(csv, dtype=str)\n",
        "        df['source_file'] = csv.name\n",
        "        frames.append(df)\n",
        "    except Exception as e:\n",
        "        print('Failed to read', csv, e)\n",
        "\n",
        "if not frames:\n",
        "    raise SystemExit('No SVI CSVs found. Place files under data/raw/svi and re-run.')\n",
        "\n",
        "svi = pd.concat(frames, ignore_index=True)\n",
        "print('SVI rows:', len(svi))\n",
        "\n",
        "# Try common GEOID column names\n",
        "geoid_col = None\n",
        "for candidate in ['FIPS','TRACTFIPS','TRACT','GEOID','geoid','TractFIPS']:\n",
        "    if candidate in svi.columns:\n",
        "        geoid_col = candidate\n",
        "        break\n",
        "\n",
        "if geoid_col is None:\n",
        "    raise SystemExit('Could not find a GEOID-like column in SVI CSVs. Provide mapping.')\n",
        "\n",
        "# Normalize to 11-digit tract_geoid\n",
        "svi['tract_geoid'] = svi[geoid_col].astype(str).str[-11:].str.zfill(11)\n",
        "\n",
        "# Keep a simple subset for now (adjust as needed)\n",
        "keep_cols = ['tract_geoid']\n",
        "svi_simple = svi[keep_cols + [c for c in svi.columns if c not in keep_cols][:20]].copy()\n",
        "\n",
        "out_int = INT / 'svi_combined.csv'\n",
        "svi.to_csv(out_int, index=False)\n",
        "print('Wrote combined SVI (raw columns):', out_int)\n",
        "\n",
        "out_proc = PROC / 'svi_simple.csv'\n",
        "svi_simple.to_csv(out_proc, index=False)\n",
        "print('Wrote simple SVI (first columns):', out_proc)\n"
      ]
    }
  ],
  "metadata": {
    "language_info": {
      "name": "python"
    }
  },
  "nbformat": 4,
  "nbformat_minor": 2
}
