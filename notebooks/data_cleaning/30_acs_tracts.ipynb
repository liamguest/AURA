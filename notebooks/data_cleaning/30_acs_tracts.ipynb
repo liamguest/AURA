{
  "cells": [
    {
      "cell_type": "markdown",
      "metadata": {},
      "source": [
        "# 30 - ACS 5-year Tracts\n",
        "\n",
        "Pull a minimal set of ACS variables for TX/LA/MS/AL/FL; write CSV.\n"
      ]
    },
    {
      "cell_type": "code",
      "execution_count": 1,
      "metadata": {},
      "outputs": [
        {
          "name": "stdout",
          "output_type": "stream",
          "text": [
            "Has key: False\n",
            "Wrote /Users/liamguest/LProjects/AURA/AURA/data/interim/acs_2022_tx_la_ms_al_fl.csv rows: 15759\n"
          ]
        }
      ],
      "source": [
        "import os, requests, pandas as pd\n",
        "from pathlib import Path\n",
        "\n",
        "ROOT = Path('/Users/liamguest/LProjects/AURA/AURA')\n",
        "INT = ROOT / 'data' / 'interim'; INT.mkdir(parents=True, exist_ok=True)\n",
        "\n",
        "STATE_FIPS = ['48','22','28','01','12']\n",
        "CENSUS_API_KEY = os.getenv('CENSUS_API_KEY')\n",
        "print('Has key:', bool(CENSUS_API_KEY))\n",
        "\n",
        "BASE = 'https://api.census.gov/data/2022/acs/acs5'\n",
        "vars_ = ['NAME','B01003_001E','B19013_001E']\n",
        "get = ','.join(['GEO_ID'] + vars_)\n",
        "\n",
        "frames = []\n",
        "for st in STATE_FIPS:\n",
        "    params = {'get': get, 'for': 'tract:*', 'in': f'state:{st}'}\n",
        "    if CENSUS_API_KEY:\n",
        "        params['key'] = CENSUS_API_KEY\n",
        "    r = requests.get(BASE, params=params, timeout=60)\n",
        "    r.raise_for_status()\n",
        "    df = pd.DataFrame(r.json()[1:], columns=r.json()[0])\n",
        "    df['state_fips'] = st\n",
        "    frames.append(df)\n",
        "\n",
        "acs = pd.concat(frames, ignore_index=True)\n",
        "out = INT / 'acs_2022_tx_la_ms_al_fl.csv'\n",
        "acs.to_csv(out, index=False)\n",
        "print('Wrote', out, 'rows:', len(acs))\n"
      ]
    },
    {
      "cell_type": "markdown",
      "metadata": {},
      "source": [
        "## Clean and standardize ACS\n",
        "\n",
        "- Build 11-digit `tract_geoid` from `GEO_ID`\n",
        "- Coerce numerics\n",
        "- Rename to readable names\n",
        "- Save cleaned CSV\n"
      ]
    },
    {
      "cell_type": "code",
      "execution_count": 2,
      "metadata": {},
      "outputs": [
        {
          "name": "stdout",
          "output_type": "stream",
          "text": [
            "Loaded ACS: (15759, 8)\n",
            "Wrote /Users/liamguest/LProjects/AURA/AURA/data/processed/acs_2022_tx_la_ms_al_fl_clean.csv rows: 15759\n"
          ]
        }
      ],
      "source": [
        "import pandas as pd\n",
        "from pathlib import Path\n",
        "\n",
        "INT = Path('/Users/liamguest/LProjects/AURA/AURA/data/interim')\n",
        "PROC = Path('/Users/liamguest/LProjects/AURA/AURA/data/processed'); PROC.mkdir(parents=True, exist_ok=True)\n",
        "\n",
        "acs_path = INT / 'acs_2022_tx_la_ms_al_fl.csv'\n",
        "acs = pd.read_csv(acs_path)\n",
        "print('Loaded ACS:', acs.shape)\n",
        "\n",
        "# GEO_ID like: '1400000US48157671202' → tract geoid is last 11 chars\n",
        "acs['tract_geoid'] = acs['GEO_ID'].astype(str).str[-11:]\n",
        "\n",
        "# Coerce numeric columns\n",
        "for col in ['B01003_001E','B19013_001E']:\n",
        "    if col in acs.columns:\n",
        "        acs[col] = pd.to_numeric(acs[col], errors='coerce')\n",
        "\n",
        "# Rename to readable\n",
        "rename_map = {\n",
        "    'B01003_001E': 'total_population',\n",
        "    'B19013_001E': 'median_household_income'\n",
        "}\n",
        "acs = acs.rename(columns=rename_map)\n",
        "\n",
        "# Keep essential columns\n",
        "keep = ['tract_geoid','NAME','state_fips','total_population','median_household_income']\n",
        "acs_clean = acs[[c for c in keep if c in acs.columns]].copy()\n",
        "\n",
        "out_clean = PROC / 'acs_2022_tx_la_ms_al_fl_clean.csv'\n",
        "acs_clean.to_csv(out_clean, index=False)\n",
        "print('Wrote', out_clean, 'rows:', len(acs_clean))\n"
      ]
    }
  ],
  "metadata": {
    "kernelspec": {
      "display_name": "aura",
      "language": "python",
      "name": "python3"
    },
    "language_info": {
      "codemirror_mode": {
        "name": "ipython",
        "version": 3
      },
      "file_extension": ".py",
      "mimetype": "text/x-python",
      "name": "python",
      "nbconvert_exporter": "python",
      "pygments_lexer": "ipython3",
      "version": "3.11.11"
    }
  },
  "nbformat": 4,
  "nbformat_minor": 2
}
