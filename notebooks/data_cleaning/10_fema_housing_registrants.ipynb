{
  "cells": [
    {
      "cell_type": "markdown",
      "metadata": {},
      "source": [
        "# 10 - FEMA Housing Registrants (IA)\n",
        "\n",
        "Paged subset pull for TX/LA/MS/AL/FL; light clean with tract_geoid.\n"
      ]
    },
    {
      "cell_type": "code",
      "execution_count": 2,
      "metadata": {},
      "outputs": [
        {
          "name": "stdout",
          "output_type": "stream",
          "text": [
            "FEMA rows: 25000 -> /Users/liamguest/LProjects/AURA/AURA/data/raw/fema_housing_subset.json\n",
            "Wrote clean subset: /Users/liamguest/LProjects/AURA/AURA/data/interim/fema_housing_subset_clean.csv rows: 25000\n"
          ]
        }
      ],
      "source": [
        "import os, time, requests, pandas as pd\n",
        "from pathlib import Path\n",
        "\n",
        "PROJECT_ROOT = Path('/Users/liamguest/LProjects/AURA/AURA')\n",
        "RAW = PROJECT_ROOT / 'data' / 'raw'\n",
        "INT = PROJECT_ROOT / 'data' / 'interim'\n",
        "RAW.mkdir(parents=True, exist_ok=True); INT.mkdir(parents=True, exist_ok=True)\n",
        "\n",
        "STATE_ABBR = ['TX','LA','MS','AL','FL']\n",
        "states_str = \"','\".join(STATE_ABBR)\n",
        "OPENFEMA_HOUSING_V1 = 'https://www.fema.gov/api/open/v1/IndividualAssistanceHousingRegistrantsLargeDisasters'\n",
        "\n",
        "select_cols = ','.join([\n",
        "    'id','disasterNumber','damagedStateAbbreviation','damagedZipCode','ownRent','residenceType',\n",
        "    'grossIncome','specialNeeds','tsaEligible','repairAssistanceEligible','replacementAssistanceEligible',\n",
        "    'personalPropertyEligible','ppfvl','censusBlockId','censusYear'\n",
        "])\n",
        "\n",
        "top = 5000\n",
        "max_pages = 5\n",
        "skip = 0\n",
        "frames = []\n",
        "for page in range(max_pages):\n",
        "    params = {\n",
        "        '$filter': f\"damagedStateAbbreviation in ('{states_str}')\",\n",
        "        '$select': select_cols,\n",
        "        '$format': 'json',\n",
        "        '$top': top,\n",
        "        '$skip': skip,\n",
        "    }\n",
        "    r = requests.get(OPENFEMA_HOUSING_V1, params=params, timeout=60)\n",
        "    r.raise_for_status()\n",
        "    items = r.json().get('IndividualAssistanceHousingRegistrantsLargeDisasters', [])\n",
        "    if not items:\n",
        "        break\n",
        "    frames.append(pd.DataFrame(items))\n",
        "    skip += top\n",
        "    time.sleep(0.2)\n",
        "\n",
        "fema = pd.concat(frames, ignore_index=True) if frames else pd.DataFrame()\n",
        "raw_out = RAW / 'fema_housing_subset.json'\n",
        "fema.to_json(raw_out, orient='records')\n",
        "print('FEMA rows:', len(fema), '->', raw_out)\n",
        "\n",
        "def to_tract_geoid(val):\n",
        "    s = str(val) if pd.notna(val) else ''\n",
        "    return s[:11] if len(s) >= 11 else None\n",
        "\n",
        "if not fema.empty:\n",
        "    fema['tract_geoid'] = fema['censusBlockId'].map(to_tract_geoid)\n",
        "    clean_out = INT / 'fema_housing_subset_clean.csv'\n",
        "    fema.to_csv(clean_out, index=False)\n",
        "    print('Wrote clean subset:', clean_out, 'rows:', len(fema))\n"
      ]
    },
    {
      "cell_type": "markdown",
      "metadata": {},
      "source": [
        "## Aggregate FEMA to tract level (processed)\n",
        "\n",
        "Creates tract-level features and writes `data/processed/fema_housing_by_tract.csv`.\n"
      ]
    },
    {
      "cell_type": "code",
      "execution_count": 4,
      "metadata": {},
      "outputs": [
        {
          "name": "stdout",
          "output_type": "stream",
          "text": [
            "Loaded FEMA clean subset: (25000, 16)\n",
            "Wrote /Users/liamguest/LProjects/AURA/AURA/data/processed/fema_housing_by_tract_disaster.csv rows: 7145\n"
          ]
        }
      ],
      "source": [
        "import pandas as pd\n",
        "from pathlib import Path\n",
        "\n",
        "INT = Path('/Users/liamguest/LProjects/AURA/AURA/data/interim')\n",
        "PROC = Path('/Users/liamguest/LProjects/AURA/AURA/data/processed'); PROC.mkdir(parents=True, exist_ok=True)\n",
        "\n",
        "df = pd.read_csv(INT / 'fema_housing_subset_clean.csv', dtype={'tract_geoid':'string'})\n",
        "print('Loaded FEMA clean subset:', df.shape)\n",
        "\n",
        "def rate_bool(series):\n",
        "    try:\n",
        "        return series.astype('boolean').mean(skipna=True)\n",
        "    except Exception:\n",
        "        return pd.to_numeric(series == True, errors='coerce').mean()\n",
        "\n",
        "group_cols = ['tract_geoid','disasterNumber']\n",
        "agg = df.groupby(group_cols, as_index=False).agg(\n",
        "    applications=('id','count'),\n",
        "    ppfvl_sum=('ppfvl','sum'),\n",
        "    ppfvl_mean=('ppfvl','mean'),\n",
        "    tsa_eligible_rate=('tsaEligible', rate_bool),\n",
        "    owner_rate=('ownRent', lambda s: (s=='Owner').mean()),\n",
        "    renter_rate=('ownRent', lambda s: (s=='Renter').mean())\n",
        ")\n",
        "\n",
        "out = PROC / 'fema_housing_by_tract_disaster.csv'\n",
        "agg.to_csv(out, index=False)\n",
        "print('Wrote', out, 'rows:', len(agg))"
      ]
    }
  ],
  "metadata": {
    "kernelspec": {
      "display_name": "aura",
      "language": "python",
      "name": "python3"
    },
    "language_info": {
      "codemirror_mode": {
        "name": "ipython",
        "version": 3
      },
      "file_extension": ".py",
      "mimetype": "text/x-python",
      "name": "python",
      "nbconvert_exporter": "python",
      "pygments_lexer": "ipython3",
      "version": "3.11.11"
    }
  },
  "nbformat": 4,
  "nbformat_minor": 2
}
